{
  "nbformat": 4,
  "nbformat_minor": 0,
  "metadata": {
    "colab": {
      "provenance": []
    },
    "kernelspec": {
      "name": "python3",
      "display_name": "Python 3"
    },
    "language_info": {
      "name": "python"
    }
  },
  "cells": [
    {
      "cell_type": "code",
      "execution_count": 31,
      "metadata": {
        "colab": {
          "base_uri": "https://localhost:8080/"
        },
        "id": "HInEDEB5xTVo",
        "outputId": "56cb3bab-4502-4957-dc94-8e96566ae950"
      },
      "outputs": [
        {
          "output_type": "execute_result",
          "data": {
            "text/plain": [
              "3"
            ]
          },
          "metadata": {},
          "execution_count": 31
        }
      ],
      "source": [
        "class Solution:\n",
        "    def maxWidthOfVerticalArea(self, points: list[list[int]]) -> int:\n",
        "        x_axis_list = []\n",
        "        for i in range(len(points)):\n",
        "          x_axis_list.append(points[i][0])\n",
        "        x_axis_list.sort()\n",
        "        diff = 0\n",
        "\n",
        "        for i in range(len(points)-1):\n",
        "          two_point_diff = x_axis_list[i+1] - x_axis_list[i]\n",
        "          if (diff<two_point_diff):\n",
        "            diff = two_point_diff\n",
        "        return diff\n",
        "\n",
        "a = Solution\n",
        "\n",
        "a.maxWidthOfVerticalArea(a,[[3,1],[9,0],[1,0],[1,4],[5,3],[8,8]])"
      ]
    },
    {
      "cell_type": "code",
      "source": [],
      "metadata": {
        "id": "Q-riRDWexb5B"
      },
      "execution_count": null,
      "outputs": []
    }
  ]
}