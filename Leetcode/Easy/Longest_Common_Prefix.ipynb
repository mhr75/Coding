{
  "nbformat": 4,
  "nbformat_minor": 0,
  "metadata": {
    "colab": {
      "provenance": []
    },
    "kernelspec": {
      "name": "python3",
      "display_name": "Python 3"
    },
    "language_info": {
      "name": "python"
    }
  },
  "cells": [
    {
      "cell_type": "code",
      "execution_count": null,
      "metadata": {
        "colab": {
          "base_uri": "https://localhost:8080/",
          "height": 35
        },
        "id": "XJt1hlfP3G5H",
        "outputId": "7b81762a-c7df-4ade-af0b-bf9086634ece"
      },
      "outputs": [
        {
          "output_type": "execute_result",
          "data": {
            "text/plain": [
              "'fl'"
            ],
            "application/vnd.google.colaboratory.intrinsic+json": {
              "type": "string"
            }
          },
          "metadata": {},
          "execution_count": 24
        }
      ],
      "source": [
        "class Solution:\n",
        "    def longestCommonPrefix(self, strs: list[str]) -> str:\n",
        "      min_len = 201\n",
        "      for ele in strs:\n",
        "        if len(ele) < min_len:\n",
        "          min_len = len(ele)\n",
        "          res = ele\n",
        "      ans = \"\"\n",
        "      stop= False\n",
        "      for i in range(len(res)):\n",
        "        check = strs[0][i]\n",
        "        for j in strs[1:]:\n",
        "          if check != j[i]:\n",
        "              stop = True\n",
        "        if stop == True:\n",
        "          break\n",
        "        else:\n",
        "          ans = ans + check\n",
        "      return ans\n",
        "\n",
        "a = Solution\n",
        "a.longestCommonPrefix(a,[\"flower\",\"flow\",\"flight\"])"
      ]
    },
    {
      "cell_type": "code",
      "source": [],
      "metadata": {
        "id": "uEUy2gxB3Uew"
      },
      "execution_count": null,
      "outputs": []
    }
  ]
}