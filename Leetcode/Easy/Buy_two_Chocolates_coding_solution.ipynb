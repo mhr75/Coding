{
  "nbformat": 4,
  "nbformat_minor": 0,
  "metadata": {
    "colab": {
      "provenance": []
    },
    "kernelspec": {
      "name": "python3",
      "display_name": "Python 3"
    },
    "language_info": {
      "name": "python"
    }
  },
  "cells": [
    {
      "cell_type": "code",
      "execution_count": 19,
      "metadata": {
        "id": "PNfBL_XSqSeA"
      },
      "outputs": [],
      "source": [
        "\n",
        "\n",
        "class Solution:\n",
        "    def buyChoco(self, prices: list[int], money: int) -> int:\n",
        "        twoChocolateFound = False\n",
        "        price = 0\n",
        "        index = 0\n",
        "        for i in prices:\n",
        "            index = index + 1\n",
        "            for j in prices[index:]:\n",
        "                if i + j <= money:\n",
        "                    a = money - (i+j)\n",
        "                    if a > price:\n",
        "                        price = a\n",
        "                    twoChocolateFound = True\n",
        "\n",
        "        if twoChocolateFound == False:\n",
        "            return money\n",
        "        else:\n",
        "            return price"
      ]
    },
    {
      "cell_type": "code",
      "source": [
        "a = Solution"
      ],
      "metadata": {
        "id": "sByAf2-kqTS2"
      },
      "execution_count": 20,
      "outputs": []
    },
    {
      "cell_type": "code",
      "source": [
        "a.buyChoco(a,[3,2,3], 3)"
      ],
      "metadata": {
        "colab": {
          "base_uri": "https://localhost:8080/"
        },
        "id": "H3qpCADVqeOX",
        "outputId": "6b8d01fc-7d4f-4e6a-85df-2ac65f736d74"
      },
      "execution_count": 22,
      "outputs": [
        {
          "output_type": "execute_result",
          "data": {
            "text/plain": [
              "3"
            ]
          },
          "metadata": {},
          "execution_count": 22
        }
      ]
    },
    {
      "cell_type": "code",
      "source": [],
      "metadata": {
        "id": "GRnxWcrmqgzD"
      },
      "execution_count": null,
      "outputs": []
    }
  ]
}